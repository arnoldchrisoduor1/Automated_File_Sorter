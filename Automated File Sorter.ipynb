{
 "cells": [
  {
   "cell_type": "markdown",
   "id": "bdaff0db",
   "metadata": {},
   "source": [
    "## Automatic File Sorter in File Explorer"
   ]
  },
  {
   "cell_type": "code",
   "execution_count": 1,
   "id": "d46c5632",
   "metadata": {},
   "outputs": [],
   "source": [
    "import os, shutil"
   ]
  },
  {
   "cell_type": "code",
   "execution_count": 9,
   "id": "bb0619fd",
   "metadata": {},
   "outputs": [],
   "source": [
    "path = r\"C:/Users/arnol/OneDrive/Desktop/sorter/\""
   ]
  },
  {
   "cell_type": "code",
   "execution_count": 10,
   "id": "20e4d066",
   "metadata": {},
   "outputs": [
    {
     "data": {
      "text/plain": [
       "['Digital Communication (1).pdf',\n",
       " 'Migos - Deadz feat. 2 Chainz [Official Video].mp3',\n",
       " 'pik.jpg',\n",
       " 'QuickDBD-export.sql',\n",
       " 'XFunctions64.xll']"
      ]
     },
     "execution_count": 10,
     "metadata": {},
     "output_type": "execute_result"
    }
   ],
   "source": [
    "file_names = os.listdir(path)"
   ]
  },
  {
   "cell_type": "code",
   "execution_count": 12,
   "id": "62f052d9",
   "metadata": {},
   "outputs": [
    {
     "name": "stdout",
     "output_type": "stream",
     "text": [
      "C:/Users/arnol/OneDrive/Desktop/sorter/csv files\n",
      "C:/Users/arnol/OneDrive/Desktop/sorter/image files\n",
      "C:/Users/arnol/OneDrive/Desktop/sorter/text files\n",
      "C:/Users/arnol/OneDrive/Desktop/sorter/music files\n",
      "C:/Users/arnol/OneDrive/Desktop/sorter/sql files\n"
     ]
    }
   ],
   "source": [
    "folder_names = ['csv files', 'image files', 'text files', 'music files', 'sql files']\n",
    "\n",
    "for loop in range(0, len(folder_names)):\n",
    "    if not os.path.exists(path + folder_names[loop]):\n",
    "        print(path + folder_names[loop])\n",
    "        os.makedirs((path + folder_names[loop]))"
   ]
  },
  {
   "cell_type": "code",
   "execution_count": 22,
   "id": "4ccba9f8",
   "metadata": {},
   "outputs": [
    {
     "name": "stdout",
     "output_type": "stream",
     "text": [
      "File extensions in the folder:\n",
      "pdf\n",
      "mp3\n",
      "jpg\n",
      "sql\n",
      "xll\n"
     ]
    }
   ],
   "source": [
    "import os\n",
    "\n",
    "def get_file_extensions(folder_path):\n",
    "    extensions = set()  # Use a set to store unique extensions\n",
    "\n",
    "    # Iterate through the files in the folder\n",
    "    for filename in os.listdir(folder_path):\n",
    "        if os.path.isfile(os.path.join(folder_path, filename)):\n",
    "            _, file_extension = os.path.splitext(filename)\n",
    "            extensions.add(file_extension.lstrip(\".\"))\n",
    "\n",
    "    return extensions\n",
    "\n",
    "# Example usage:\n",
    "if __name__ == '__main__':\n",
    "    folder_path = \"C:/Users/arnol/OneDrive/Desktop/sorter/\"  # Replace with the path to your folder\n",
    "    extensions = get_file_extensions(folder_path)\n",
    "\n",
    "    print(\"File extensions in the folder:\")\n",
    "    for ext in extensions:\n",
    "        print(ext)"
   ]
  },
  {
   "cell_type": "code",
   "execution_count": 24,
   "id": "0e49e71f",
   "metadata": {},
   "outputs": [
    {
     "name": "stdout",
     "output_type": "stream",
     "text": [
      "Created folder: pdf\n",
      "Created folder: mp3\n",
      "Created folder: jpg\n",
      "Created folder: sql\n",
      "Created folder: xll\n"
     ]
    }
   ],
   "source": [
    "def create_folders_for_extensions(folder_path):\n",
    "    extensions = get_file_extensions(folder_path)\n",
    "\n",
    "    # Create a folder for each unique extension\n",
    "    for ext in extensions:\n",
    "        folder_name = os.path.join(folder_path, ext)\n",
    "        if not os.path.exists(folder_name):\n",
    "            os.makedirs(folder_name)\n",
    "        print(f\"Created folder: {ext}\")\n",
    "        \n",
    "if __name__ == '__main__':\n",
    "    folder_path = \"C:/Users/arnol/OneDrive/Desktop/sorter/\"  # Replace with the path to your folder\n",
    "    create_folders_for_extensions(folder_path)"
   ]
  },
  {
   "cell_type": "markdown",
   "id": "bbfef044",
   "metadata": {},
   "source": [
    "# Complete program."
   ]
  },
  {
   "cell_type": "code",
   "execution_count": 25,
   "id": "8c586dba",
   "metadata": {},
   "outputs": [
    {
     "name": "stdout",
     "output_type": "stream",
     "text": [
      "Created folder: pdf\n",
      "Created folder: mp3\n",
      "Created folder: jpg\n",
      "Created folder: sql\n",
      "Created folder: xll\n",
      "Moved Digital Communication (1).pdf to pdf folder\n",
      "Moved Migos - Deadz feat. 2 Chainz [Official Video].mp3 to mp3 folder\n",
      "Moved pik.jpg to jpg folder\n",
      "Moved QuickDBD-export.sql to sql folder\n",
      "Moved XFunctions64.xll to xll folder\n"
     ]
    }
   ],
   "source": [
    "import os\n",
    "import shutil\n",
    "\n",
    "def get_file_extensions(folder_path):\n",
    "    extensions = set() \n",
    "\n",
    "    # Iterate through the files in the folder\n",
    "    for filename in os.listdir(folder_path):\n",
    "        if os.path.isfile(os.path.join(folder_path, filename)):\n",
    "            _, file_extension = os.path.splitext(filename)\n",
    "            extensions.add(file_extension.lstrip(\".\"))\n",
    "\n",
    "    return extensions\n",
    "\n",
    "def create_folders_for_extensions(folder_path):\n",
    "    extensions = get_file_extensions(folder_path)\n",
    "\n",
    "    # Create a folder for each unique extension\n",
    "    for ext in extensions:\n",
    "        folder_name = os.path.join(folder_path, ext)\n",
    "        if not os.path.exists(folder_name):\n",
    "            os.makedirs(folder_name)\n",
    "        print(f\"Created folder: {ext}\")\n",
    "\n",
    "def move_files_to_folders(folder_path):\n",
    "    extensions = get_file_extensions(folder_path)\n",
    "\n",
    "    for filename in os.listdir(folder_path):\n",
    "        if os.path.isfile(os.path.join(folder_path, filename)):\n",
    "            _, file_extension = os.path.splitext(filename)\n",
    "            file_extension = file_extension.lstrip(\".\")\n",
    "\n",
    "            if file_extension in extensions:\n",
    "                source_file = os.path.join(folder_path, filename)\n",
    "                destination_folder = os.path.join(folder_path, file_extension)\n",
    "\n",
    "                if not os.path.exists(destination_folder):\n",
    "                    os.makedirs(destination_folder)\n",
    "\n",
    "                destination_file = os.path.join(destination_folder, filename)\n",
    "                shutil.move(source_file, destination_file)\n",
    "                print(f\"Moved {filename} to {file_extension} folder\")\n",
    "\n",
    "# Example usage:\n",
    "if __name__ == '__main__':\n",
    "    folder_path = \"C:/Users/arnol/OneDrive/Desktop/sorter/\" \n",
    "\n",
    "    # Create folders for extensions\n",
    "    create_folders_for_extensions(folder_path)\n",
    "\n",
    "    # Move files to their respective folders\n",
    "    move_files_to_folders(folder_path)\n"
   ]
  },
  {
   "cell_type": "code",
   "execution_count": null,
   "id": "c0557a00",
   "metadata": {},
   "outputs": [],
   "source": []
  }
 ],
 "metadata": {
  "kernelspec": {
   "display_name": "Python 3 (ipykernel)",
   "language": "python",
   "name": "python3"
  },
  "language_info": {
   "codemirror_mode": {
    "name": "ipython",
    "version": 3
   },
   "file_extension": ".py",
   "mimetype": "text/x-python",
   "name": "python",
   "nbconvert_exporter": "python",
   "pygments_lexer": "ipython3",
   "version": "3.11.5"
  }
 },
 "nbformat": 4,
 "nbformat_minor": 5
}
